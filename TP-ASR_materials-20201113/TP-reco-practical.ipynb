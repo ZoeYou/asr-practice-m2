{
 "cells": [
  {
   "source": [
    "# Speech recognition for isolated words\n",
    "\n",
    "Date: 30/11/2020\n",
    "\n",
    "Name: Jiangnan HUANG, Jingzhuo HUI, You ZUO\n"
   ],
   "cell_type": "markdown",
   "metadata": {}
  },
  {
   "cell_type": "code",
   "execution_count": 1,
   "metadata": {},
   "outputs": [],
   "source": [
    "import doctest\n",
    "import struct\n",
    "import wave\n",
    "from glob import glob\n",
    "\n",
    "import numpy as np\n",
    "from matplotlib import pyplot as plt\n",
    "from numpy import fft"
   ]
  },
  {
   "cell_type": "code",
   "execution_count": 2,
   "metadata": {},
   "outputs": [],
   "source": [
    "def readwav(fname):\n",
    "    \"\"\"\n",
    "    Parameters\n",
    "    ----------\n",
    "    fname : str\n",
    "        The filename of the wave file to process\n",
    "\n",
    "    Returns\n",
    "    -------\n",
    "    (x, fs) : tuple\n",
    "\n",
    "    x : np.array\n",
    "        The 1-dim. PCM audio signal\n",
    "\n",
    "    fs : int\n",
    "        The sampling frequency\n",
    "    \"\"\"\n",
    "    with wave.open(fname) as wav:\n",
    "        n = wav.getnframes()\n",
    "        frames = wav.readframes(n)\n",
    "        x = struct.unpack(\"h\" * n, frames)\n",
    "        fs = wav.getframerate()\n",
    "    return np.array(x), fs"
   ]
  },
  {
   "cell_type": "code",
   "execution_count": 3,
   "metadata": {},
   "outputs": [],
   "source": [
    "# wav, fs = readwav(\"digits/train/ae_1a.wav\")"
   ]
  },
  {
   "cell_type": "markdown",
   "metadata": {},
   "source": [
    "1 or 2 lines of code for each function below, no need for any description of your code "
   ]
  },
  {
   "cell_type": "code",
   "execution_count": 4,
   "metadata": {},
   "outputs": [],
   "source": [
    "def mel(f):\n",
    "    \"\"\"\n",
    "    Frequency converter from Hz to Mel\n",
    "\n",
    "    Parameters\n",
    "    ----------\n",
    "    f : int, float or np.array\n",
    "        The frequency (Hz)\n",
    "\n",
    "    Returns\n",
    "    -------\n",
    "    mel : float or np.array\n",
    "        The frequency (Mel)\n",
    "\n",
    "    Examples\n",
    "    --------\n",
    "    >>> x = np.linspace(200, 4000, 20)\n",
    "    >>> with np.printoptions(precision=2):\n",
    "    ...     print(mel(x))\n",
    "    [  283.23  509.38  697.65  858.93  999.99 1125.34 ... 2146.06]\n",
    "    \"\"\"\n",
    "    return 2595 * np.log10(1+f/700.)\n",
    "\n",
    "\n",
    "def hertz(m):\n",
    "    \"\"\"\n",
    "    Frequency converter from Mel to Hz\n",
    "\n",
    "    Parameters\n",
    "    ----------\n",
    "    mel : int, float or np.array\n",
    "        The frequency (Mel)\n",
    "\n",
    "    Returns\n",
    "    -------\n",
    "    f : float or np.array\n",
    "        The frequency (Hz)\n",
    "\n",
    "    Examples\n",
    "    --------\n",
    "    >>> x = np.linspace(200, 2000, 20)\n",
    "    >>> with np.printoptions(precision=2):\n",
    "    ...     print(hertz(x))\n",
    "    [  135.93  209.24  288.97  375.7   470.04  572.64 ... 3428.68]\n",
    "    \"\"\"\n",
    "    return 700 * (10**(m/2595.)-1)"
   ]
  },
  {
   "cell_type": "code",
   "execution_count": 5,
   "metadata": {},
   "outputs": [],
   "source": [
    "def melbank(nfilt, win_n, fs):\n",
    "    \"\"\"\n",
    "    Computing of the MFCC coefficients of a whole wave file\n",
    "\n",
    "    Parameters\n",
    "    ----------\n",
    "    nfilt : int\n",
    "        The number of melbank filters\n",
    "\n",
    "    win_n : int\n",
    "        The window size (in samples)\n",
    "\n",
    "    fs : int\n",
    "        The sampling frequency (Hz)\n",
    "\n",
    "    Returns\n",
    "    -------\n",
    "    melb : np.array\n",
    "        The 2-dim. (nfilt, win_n/2+1) mel-bank filters\n",
    "\n",
    "    Examples\n",
    "    --------\n",
    "    >>> melb = melbank(nfilt=24, win_n=256, fs=8000)\n",
    "    >>> melb.shape\n",
    "    (24, 129)\n",
    "    >>> with np.printoptions(precision=2, suppress=True, edgeitems=6):\n",
    "    ...     print(melb)\n",
    "    [[0.   1.   0.5  0.   0.   0.   ... 0.   0.   0.   0.   0.   0.  ]\n",
    "     [0.   0.   0.5  1.   0.5  0.   ... 0.   0.   0.   0.   0.   0.  ]\n",
    "     [0.   0.   0.   0.   0.5  1.   ... 0.   0.   0.   0.   0.   0.  ]\n",
    "     [0.   0.   0.   0.   0.   0.   ... 0.   0.   0.   0.   0.   0.  ]\n",
    "     [0.   0.   0.   0.   0.   0.   ... 0.   0.   0.   0.   0.   0.  ]\n",
    "     [0.   0.   0.   0.   0.   0.   ... 0.   0.   0.   0.   0.   0.  ]\n",
    "     ...\n",
    "     [0.   0.   0.   0.   0.   0.   ... 0.   0.   0.   0.   0.   0.  ]\n",
    "     [0.   0.   0.   0.   0.   0.   ... 0.   0.   0.   0.   0.   0.  ]\n",
    "     [0.   0.   0.   0.   0.   0.   ... 0.   0.   0.   0.   0.   0.  ]\n",
    "     [0.   0.   0.   0.   0.   0.   ... 0.   0.   0.   0.   0.   0.  ]\n",
    "     [0.   0.   0.   0.   0.   0.   ... 0.   0.   0.   0.   0.   0.  ]\n",
    "     [0.   0.   0.   0.   0.   0.   ... 0.36 0.27 0.18 0.09 0.   0.  ]]\n",
    "    >>> with np.printoptions(precision=2, suppress=True, edgeitems=6):\n",
    "    ...     print(melb[-1])\n",
    "    [0.   0. ... 0.1  0.2 ... 1.   0.91 0.82 0.73 ... 0.18 0.09 0.   0.  ]\n",
    "    \"\"\"\n",
    "    melb = np.zeros((nfilt, win_n // 2 + 1))\n",
    "    melstep = mel(fs / 2) / (nfilt + 1)\n",
    "\n",
    "    for i in range(nfilt):\n",
    "        left = int(hertz(melstep * i) * win_n / fs)\n",
    "        middle = int(hertz(melstep * (i + 1)) * win_n / fs)\n",
    "        right = int(hertz(melstep * (i + 2)) * win_n / fs)\n",
    "\n",
    "        melb[i, left : middle + 1] = (\n",
    "            np.arange(middle - left + 1) * 1.0 / (middle - left)\n",
    "        )\n",
    "        melb[i, middle : right + 1] = 1.0 - np.arange(\n",
    "            right - middle + 1\n",
    "        ) * 1.0 / (right - middle)\n",
    "\n",
    "    return melb"
   ]
  },
  {
   "cell_type": "markdown",
   "metadata": {},
   "source": [
    "\\<describe here in few lines your implementation of the function below\\>\n",
    "\n",
    "The function `mfcc()` computes for each given frame y, the 12 coeffients of mel-frequenct cepstral and the normalized energy of signal as the 1st coeffients. We chose the peak value of signal to be a normalization term."
   ]
  },
  {
   "cell_type": "code",
   "execution_count": 6,
   "metadata": {},
   "outputs": [],
   "source": [
    "def mfcc(y, melb, nc):\n",
    "    \"\"\"\n",
    "    Computing of the MFCC coefficients of a single frame\n",
    "\n",
    "    Parameters\n",
    "    ----------\n",
    "    y : np.array\n",
    "        The 1-dim. frame signal\n",
    "\n",
    "    melb: np.array\n",
    "        The 2-dim. mel-bank filters\n",
    "\n",
    "    nc: int\n",
    "        The number of coefficients\n",
    "\n",
    "    Returns\n",
    "    -------\n",
    "    cc : np.array\n",
    "        The 1-dim cepstral coefficients\n",
    "\n",
    "    Examples\n",
    "    --------\n",
    "    >>> int16 = np.iinfo(np.int16)\n",
    "    >>> rng = np.random.default_rng(0)\n",
    "    >>> y = rng.integers(int16.min, int16.max, 256)\n",
    "    >>> melb = melbank(nfilt=24, win_n=256, fs=8000)\n",
    "    >>> cc = mfcc(y, melb, nc=13)\n",
    "    >>> cc.shape\n",
    "    (13,)\n",
    "    \"\"\"\n",
    "    s = np.abs(fft.rfft(y))     # dim: (129,) = 256/2 + 1\n",
    "    E = melb @ s    # (24, 129) @ (129,1) = (24,1)\n",
    "\n",
    "    # Cepstrum coefficients\n",
    "    cc = fft.irfft(np.log(E + 1e-20))[1:nc] \n",
    "\n",
    "    # energy e\n",
    "    e = y**2\n",
    "    e[e <= 1e-20] = 1e-20\n",
    "    e0 = max(np.log(e))\n",
    "    e = np.log(sum(e)) - e0\n",
    "\n",
    "    return np.append(e,cc)"
   ]
  },
  {
   "cell_type": "markdown",
   "metadata": {},
   "source": [
    "\\<describe here in few lines your implementation of the function below\\>\n",
    "\n",
    "We want to have both delta and delta delta as features, so we compute them with function `delta()` in a more general definition:\n",
    "$$d_t = \\frac{\\sum_{n=1}^N n(c_{t+n} - c_{t-n})}{2\\sum_{n=1}^{N} n^2}$$\n",
    "\n",
    "where $d_t$ refers to the delta coefficient for frame $t$, and we have $N=1$ for delta and $N=2$ for delta delta features."
   ]
  },
  {
   "cell_type": "code",
   "execution_count": 7,
   "metadata": {},
   "outputs": [],
   "source": [
    "def delta(coefficients,N=1):\n",
    "    \"\"\"\n",
    "    Computing of delta of N degree\n",
    "\n",
    "    Parameters\n",
    "    ----------\n",
    "    coefficients : np.array\n",
    "        The 2-dim. (n_frames, nc) cepstral coefficients of the whole file\n",
    "    N : int \n",
    "        The differential degree of delta, can only be 1 or 2\n",
    "        Returns\n",
    "    -------\n",
    "    c : np.array\n",
    "        The 2-dim. (n_frames, nc) cepstral differential features of the whole file     \n",
    "    \"\"\"\n",
    "    denominator = 2 * sum([i**2 for i in range(1,N+1)])\n",
    "    delta_c = np.empty_like(coefficients)\n",
    "    padded = np.pad(coefficients,pad_width=((N,N),(0,0)), mode='edge')\n",
    "\n",
    "    for t in range(len(coefficients)):\n",
    "        delta_c[t] = (np.arange(-N, N+1) @ padded[t : t+2*N+1])/ denominator\n",
    "    return delta_c"
   ]
  },
  {
   "source": [
    "In the function `wav2mfcc()`, for each signal x with its rate fs:\n",
    "\n",
    "1. firstly implement function `preemph()` to boost the amount of energy in the high frequencies\n",
    "2. compute the size of each frame(window), the step size for slicing the audio waveform into sliding frames and the number of frames/ windows\n",
    "3. pad the uncomplete frame with zero\n",
    "4. get the melbank filters by calling the previous function `melbank()`\n",
    "5. for each frame, implement the Hamming window multiplication and compute the 13 mfcc \n",
    "6. compute the feature delfa and delta delta for all the frames and concatenate all the 39 features\n"
   ],
   "cell_type": "markdown",
   "metadata": {}
  },
  {
   "cell_type": "code",
   "execution_count": 8,
   "metadata": {},
   "outputs": [],
   "source": [
    "def wav2mfcc(fname, nc=13, nfilt=24, win=0.032, step=0.010):\n",
    "    \"\"\"\n",
    "    Computing of the MFCC coefficients of a whole wave file\n",
    "\n",
    "    Parameters\n",
    "    ----------\n",
    "    fname : str\n",
    "        The filename of the wave file to process\n",
    "\n",
    "    nc : int\n",
    "        The number of cepstral coefficients\n",
    "\n",
    "    nfilt : int\n",
    "        The number of melbank filters\n",
    "\n",
    "    win : float\n",
    "        The window size (s)\n",
    "\n",
    "    step : float\n",
    "        The step size (s)\n",
    "\n",
    "    Returns\n",
    "    -------\n",
    "    c : np.array\n",
    "        The 2-dim. (n_frames, nc) cepstral coefficients of the whole file\n",
    "    \"\"\"\n",
    "    x, fs = readwav(fname)\n",
    "\n",
    "    # Pre-emphasis\n",
    "    x = preemph(x)\n",
    "\n",
    "    win_n = int(win*fs) # 0.032 * 8000 = 256\n",
    "    step_n = int(step*fs)   # 0.010 * 8000 = 80\n",
    " \n",
    "    if len(x) <= win_n:\n",
    "        n_frames = 1\n",
    "    else:\n",
    "        n_frames = 1 + int(np.ceil((1.*len(x)-win_n)/step_n))\n",
    "\n",
    "    padded_len = int((n_frames - 1) * step_n + win_n)\n",
    "    x = np.concatenate((x, np.zeros(padded_len-len(x))))\n",
    "\n",
    "    # Cepstral Coefficients\n",
    "    c = np.empty([n_frames,nc])\n",
    "    melb = melbank(nfilt=nfilt, win_n=win_n, fs=fs)\n",
    "\n",
    "    ## Hamming window\n",
    "    w = np.hamming(win_n)   # (256,)\n",
    "\n",
    "    for i in range(n_frames):\n",
    "        s = w * x[step_n*i:step_n*i + win_n] \n",
    "        cc = mfcc(s, melb, nc)\n",
    "        c[i] = cc\n",
    "\n",
    "    # Feature delta\n",
    "    d_c = delta(c)\n",
    "\n",
    "    # delta delta\n",
    "    dd_c = delta(c,2)\n",
    "\n",
    "    c = np.hstack((c,d_c,dd_c))\n",
    " \n",
    "    return c"
   ]
  },
  {
   "cell_type": "markdown",
   "metadata": {},
   "source": [
    "\\<describe here in few lines your implementation of the function below\\>\n",
    "\n",
    "Function `euclid()` computes the eclidean distance which is defined as $dist(v1,v2) = \\sqrt{\\sum_{i=1}^n (v1_i - v2_i)^2}$"
   ]
  },
  {
   "cell_type": "code",
   "execution_count": 9,
   "metadata": {},
   "outputs": [],
   "source": [
    "def euclid(v1, v2):\n",
    "    \"\"\"\n",
    "    Computation of the Euclidean distance between the MFCC frames\n",
    "\n",
    "    Parameters\n",
    "    ----------\n",
    "    v1 : np.array\n",
    "        1-dim. MFCC frame\n",
    "\n",
    "    v2 : np.array\n",
    "        1-dim. MFCC frame\n",
    "\n",
    "    Returns\n",
    "    -------\n",
    "    dist : np.float\n",
    "        The Euclidean distance value\n",
    "    \"\"\"\n",
    "    return np.linalg.norm(v1-v2)"
   ]
  },
  {
   "cell_type": "markdown",
   "metadata": {},
   "source": [
    "\\<describe here in few lines your implementation of the function below\\>\n",
    "\n",
    "The implementation of pre-emphasis makes information in higher formants more available to the acoustic model. It's like a kind of smoothing step."
   ]
  },
  {
   "cell_type": "code",
   "execution_count": 10,
   "metadata": {},
   "outputs": [],
   "source": [
    "def preemph(x, alpha=0.97):\n",
    "    \"\"\"\n",
    "    (Optional)\n",
    "\n",
    "    Applying the pre-emphasis step to the PCM audio signal:\n",
    "    to decrease high frequency energy\n",
    "\n",
    "    Parameters\n",
    "    ----------\n",
    "    x : np.array\n",
    "        The 1-dim. PCM audio signal\n",
    "\n",
    "    alpha : int\n",
    "        The pre-emphasis coefficient\n",
    "\n",
    "    Returns\n",
    "    -------\n",
    "    x_pre : np.array\n",
    "        The 1-dim. filtered audio signal\n",
    "    \"\"\"\n",
    "    \n",
    "    return np.append(x[0],x[1:] - alpha * x[:-1])"
   ]
  },
  {
   "cell_type": "markdown",
   "metadata": {},
   "source": [
    "\\<describe here in few lines your implementation of the function below\\>\n",
    "\n",
    "Since we want to compare the similarity between speech signals and find the most correlative one in train set, we need to match the sequences with common trends but may have defferent lengths. \n",
    "\n",
    "Algorithm DTW offers a way to calculate an optimal match between two given sequences c1 and c2, where the distance is the value at the right bottom of computed matrix."
   ]
  },
  {
   "cell_type": "code",
   "execution_count": 11,
   "metadata": {},
   "outputs": [],
   "source": [
    "def dtw(c1, c2):\n",
    "    \"\"\"\n",
    "    Computation of DTW between MFCC signals\n",
    "\n",
    "    Parameters\n",
    "    ----------\n",
    "    c1 : np.array\n",
    "        2-dim. MFCC signal\n",
    "\n",
    "    c1 : np.array\n",
    "        2-dim. MFCC signal\n",
    "\n",
    "    Returns\n",
    "    -------\n",
    "    dist : np.float\n",
    "        The DTW distance value\n",
    "    \"\"\"\n",
    "    n, m = c1.shape[0], c2.shape[0]\n",
    "\n",
    "    g = np.zeros([n+1,m+1])\n",
    "    g[0,1:] = np.inf\n",
    "    g[1:,0] = np.inf\n",
    "    \n",
    "    for i in range(1,n+1):\n",
    "        for j in range(1,m+1):\n",
    "            prec = [g[i-1,j-1],g[i,j-1],g[i-1,j]]\n",
    "            g[i,j] = min(prec) + euclid(c1[i-1],c2[j-1])\n",
    "    \n",
    "    return g[-1,-1]"
   ]
  },
  {
   "cell_type": "markdown",
   "metadata": {},
   "source": [
    "Write below your computation script\n",
    "\n",
    "\\<describe here in few lines your implementation below\\>\n",
    "\n",
    "For each of the test data, we will find the most \"similar\" signal in the training dataset. The **similarity** is measured by the *dynamic time warping* of the sequences of 39 MFCC features."
   ]
  },
  {
   "cell_type": "code",
   "execution_count": 12,
   "metadata": {},
   "outputs": [],
   "source": [
    "test_filePath = \"./digits/test/\"\n",
    "train_filePath = \"./digits/train/\"\n",
    "\n",
    "test_files = os.listdir(test_filePath)\n",
    "train_files = os.listdir(train_filePath)\n",
    "\n",
    "test_mfcc = []  # lenth = 98\n",
    "train_mfcc = []\n",
    "for f in test_files:\n",
    "    test_mfcc.append(wav2mfcc(test_filePath+f))\n",
    "\n",
    "for f in train_files:\n",
    "    train_mfcc.append(wav2mfcc(train_filePath+f))"
   ]
  },
  {
   "cell_type": "code",
   "execution_count": 13,
   "metadata": {},
   "outputs": [],
   "source": [
    "final_dtw = np.zeros([len(test_files),len(train_files)])\n",
    "for i in range(len(test_mfcc)):\n",
    "    for j in range(len(train_mfcc)):\n",
    "        final_dtw[i,j] = dtw(test_mfcc[i],train_mfcc[j])"
   ]
  },
  {
   "cell_type": "code",
   "execution_count": 14,
   "metadata": {},
   "outputs": [],
   "source": [
    "min_index = np.argmin(final_dtw, axis=1)\n",
    "\n",
    "predict_files = []\n",
    "for i in range(len(test_files)):\n",
    "    predict_files.append(train_files[min_index[i]])"
   ]
  },
  {
   "cell_type": "code",
   "execution_count": 15,
   "metadata": {},
   "outputs": [
    {
     "output_type": "stream",
     "name": "stdout",
     "text": [
      "89\n98\n0.9081632653061225\n"
     ]
    }
   ],
   "source": [
    "acc = 0\n",
    "for i in range(len(test_files)):\n",
    "    if predict_files[i][3] == test_files[i][3]:\n",
    "        acc = acc + 1\n",
    "\n",
    "print(acc)\n",
    "print(len(test_files))\n",
    "print(acc/len(test_files))"
   ]
  },
  {
   "cell_type": "markdown",
   "metadata": {},
   "source": [
    "Uncomment to test the functions including a doctest in their docstring"
   ]
  },
  {
   "cell_type": "code",
   "execution_count": 16,
   "metadata": {},
   "outputs": [
    {
     "output_type": "execute_result",
     "data": {
      "text/plain": [
       "TestResults(failed=0, attempted=14)"
      ]
     },
     "metadata": {},
     "execution_count": 16
    }
   ],
   "source": [
    "doctest.testmod(optionflags=doctest.ELLIPSIS | doctest.NORMALIZE_WHITESPACE)"
   ]
  },
  {
   "cell_type": "markdown",
   "metadata": {},
   "source": [
    "---"
   ]
  }
 ],
 "metadata": {
  "kernelspec": {
   "display_name": "Python 3",
   "language": "python",
   "name": "python3"
  },
  "language_info": {
   "codemirror_mode": {
    "name": "ipython",
    "version": 3
   },
   "file_extension": ".py",
   "mimetype": "text/x-python",
   "name": "python",
   "nbconvert_exporter": "python",
   "pygments_lexer": "ipython3",
   "version": "3.7.4-final"
  }
 },
 "nbformat": 4,
 "nbformat_minor": 4
}